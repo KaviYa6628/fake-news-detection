{
 "cells": [
  {
   "cell_type": "code",
   "execution_count": 1,
   "id": "fb22144e",
   "metadata": {},
   "outputs": [
    {
     "data": {
      "text/html": [
       "<div>\n",
       "<style scoped>\n",
       "    .dataframe tbody tr th:only-of-type {\n",
       "        vertical-align: middle;\n",
       "    }\n",
       "\n",
       "    .dataframe tbody tr th {\n",
       "        vertical-align: top;\n",
       "    }\n",
       "\n",
       "    .dataframe thead th {\n",
       "        text-align: right;\n",
       "    }\n",
       "</style>\n",
       "<table border=\"1\" class=\"dataframe\">\n",
       "  <thead>\n",
       "    <tr style=\"text-align: right;\">\n",
       "      <th></th>\n",
       "      <th>Unnamed: 0</th>\n",
       "      <th>text</th>\n",
       "      <th>label</th>\n",
       "    </tr>\n",
       "  </thead>\n",
       "  <tbody>\n",
       "    <tr>\n",
       "      <th>0</th>\n",
       "      <td>243</td>\n",
       "      <td>Dennis Lloyd Mothersbaugh, 37, has a long and ...</td>\n",
       "      <td>0</td>\n",
       "    </tr>\n",
       "    <tr>\n",
       "      <th>1</th>\n",
       "      <td>15362</td>\n",
       "      <td>THIS WAS A VERY AWKWARD MOMENT BUT THE BEST PA...</td>\n",
       "      <td>0</td>\n",
       "    </tr>\n",
       "    <tr>\n",
       "      <th>2</th>\n",
       "      <td>480</td>\n",
       "      <td>The U.S. Senate will vote later Wednesday on w...</td>\n",
       "      <td>1</td>\n",
       "    </tr>\n",
       "    <tr>\n",
       "      <th>3</th>\n",
       "      <td>10797</td>\n",
       "      <td>President Barack Obama does plan to sign a Nor...</td>\n",
       "      <td>1</td>\n",
       "    </tr>\n",
       "    <tr>\n",
       "      <th>4</th>\n",
       "      <td>32588</td>\n",
       "      <td>Veterans Affairs Secretary Robert McDonald apo...</td>\n",
       "      <td>1</td>\n",
       "    </tr>\n",
       "  </tbody>\n",
       "</table>\n",
       "</div>"
      ],
      "text/plain": [
       "   Unnamed: 0                                               text  label\n",
       "0         243  Dennis Lloyd Mothersbaugh, 37, has a long and ...      0\n",
       "1       15362  THIS WAS A VERY AWKWARD MOMENT BUT THE BEST PA...      0\n",
       "2         480  The U.S. Senate will vote later Wednesday on w...      1\n",
       "3       10797  President Barack Obama does plan to sign a Nor...      1\n",
       "4       32588  Veterans Affairs Secretary Robert McDonald apo...      1"
      ]
     },
     "execution_count": 1,
     "metadata": {},
     "output_type": "execute_result"
    }
   ],
   "source": [
    "#Import required libraries\n",
    "import pandas as pd\n",
    "import numpy as np\n",
    "import matplotlib.pyplot as plt\n",
    "import seaborn as sns\n",
    "import re\n",
    "import string\n",
    "import nltk\n",
    "import warnings\n",
    "warnings.filterwarnings('ignore')\n",
    "\n",
    "# For vectorization and modeling\n",
    "from sklearn.model_selection import train_test_split\n",
    "from sklearn.feature_extraction.text import TfidfVectorizer\n",
    "from sklearn.metrics import classification_report, confusion_matrix, accuracy_score, roc_auc_score\n",
    "\n",
    "# For ML models\n",
    "from sklearn.linear_model import LogisticRegression\n",
    "from sklearn.ensemble import RandomForestClassifier, GradientBoostingClassifier\n",
    "from sklearn.naive_bayes import MultinomialNB\n",
    "from sklearn.svm import LinearSVC\n",
    "\n",
    "# Provide dataset filenames (in the same folder)\n",
    "fake_path = \"fake.csv\"\n",
    "true_path = \"original.csv\"\n",
    "\n",
    "# Load the datasets\n",
    "fake_news = pd.read_csv(fake_path)\n",
    "true_news = pd.read_csv(true_path)\n",
    "\n",
    "# Add a label column: 1 for true, 0 for fake\n",
    "true_news[\"label\"] = 1\n",
    "fake_news[\"label\"] = 0\n",
    "\n",
    "# Combine both datasets\n",
    "df = pd.concat([true_news, fake_news], axis=0).reset_index(drop=True)\n",
    "\n",
    "# Shuffle the dataset\n",
    "df = df.sample(frac=1).reset_index(drop=True)\n",
    "\n",
    "# Display first 5 rows\n",
    "df.head()\n"
   ]
  },
  {
   "cell_type": "code",
   "execution_count": 2,
   "id": "d599787e",
   "metadata": {},
   "outputs": [
    {
     "name": "stdout",
     "output_type": "stream",
     "text": [
      "Columns: Index(['Unnamed: 0', 'text', 'label'], dtype='object')\n",
      "\n",
      "Unique labels: [0 1]\n"
     ]
    },
    {
     "data": {
      "text/html": [
       "<div>\n",
       "<style scoped>\n",
       "    .dataframe tbody tr th:only-of-type {\n",
       "        vertical-align: middle;\n",
       "    }\n",
       "\n",
       "    .dataframe tbody tr th {\n",
       "        vertical-align: top;\n",
       "    }\n",
       "\n",
       "    .dataframe thead th {\n",
       "        text-align: right;\n",
       "    }\n",
       "</style>\n",
       "<table border=\"1\" class=\"dataframe\">\n",
       "  <thead>\n",
       "    <tr style=\"text-align: right;\">\n",
       "      <th></th>\n",
       "      <th>content</th>\n",
       "      <th>label</th>\n",
       "    </tr>\n",
       "  </thead>\n",
       "  <tbody>\n",
       "    <tr>\n",
       "      <th>0</th>\n",
       "      <td>dennis lloyd mothersbaugh 37 has a long and vi...</td>\n",
       "      <td>0</td>\n",
       "    </tr>\n",
       "    <tr>\n",
       "      <th>1</th>\n",
       "      <td>this was a very awkward moment but the best pa...</td>\n",
       "      <td>0</td>\n",
       "    </tr>\n",
       "    <tr>\n",
       "      <th>2</th>\n",
       "      <td>the us senate will vote later wednesday on whe...</td>\n",
       "      <td>1</td>\n",
       "    </tr>\n",
       "    <tr>\n",
       "      <th>3</th>\n",
       "      <td>president barack obama does plan to sign a nor...</td>\n",
       "      <td>1</td>\n",
       "    </tr>\n",
       "    <tr>\n",
       "      <th>4</th>\n",
       "      <td>veterans affairs secretary robert mcdonald apo...</td>\n",
       "      <td>1</td>\n",
       "    </tr>\n",
       "  </tbody>\n",
       "</table>\n",
       "</div>"
      ],
      "text/plain": [
       "                                             content  label\n",
       "0  dennis lloyd mothersbaugh 37 has a long and vi...      0\n",
       "1  this was a very awkward moment but the best pa...      0\n",
       "2  the us senate will vote later wednesday on whe...      1\n",
       "3  president barack obama does plan to sign a nor...      1\n",
       "4  veterans affairs secretary robert mcdonald apo...      1"
      ]
     },
     "execution_count": 2,
     "metadata": {},
     "output_type": "execute_result"
    }
   ],
   "source": [
    "# Data preprocessing\n",
    "\n",
    "# Show column names and unique values to identify label column\n",
    "print(\"Columns:\", df.columns)\n",
    "print(\"\\nUnique labels:\", df[df.columns[-1]].unique())\n",
    "\n",
    "# Rename label column to \"label\" for consistency\n",
    "df = df.rename(columns={df.columns[-1]: \"label\"})\n",
    "\n",
    "# Convert labels to numeric if needed (e.g., \"FAKE\" → 0, \"REAL\" → 1)\n",
    "if df[\"label\"].dtype == object:\n",
    "    df[\"label\"] = df[\"label\"].map({\"FAKE\": 0, \"REAL\": 1, \"fake\": 0, \"true\": 1, \"TRUE\": 1, \"FALSE\": 0})\n",
    "\n",
    "# Drop rows with missing values (if any)\n",
    "df.dropna(inplace=True)\n",
    "\n",
    "# Combine title + text if both exist\n",
    "if \"title\" in df.columns and \"text\" in df.columns:\n",
    "    df[\"content\"] = df[\"title\"] + \" \" + df[\"text\"]\n",
    "elif \"text\" in df.columns:\n",
    "    df[\"content\"] = df[\"text\"]\n",
    "elif \"article\" in df.columns:\n",
    "    df[\"content\"] = df[\"article\"]\n",
    "\n",
    "# Lowercase + remove punctuation\n",
    "def clean_text(text):\n",
    "    text = text.lower()\n",
    "    text = re.sub(r\"[^\\w\\s]\", \"\", text)\n",
    "    return text\n",
    "\n",
    "df[\"content\"] = df[\"content\"].apply(clean_text)\n",
    "\n",
    "# Preview cleaned data\n",
    "df[[\"content\", \"label\"]].head()\n"
   ]
  },
  {
   "cell_type": "code",
   "execution_count": 3,
   "id": "82986f83",
   "metadata": {},
   "outputs": [
    {
     "name": "stdout",
     "output_type": "stream",
     "text": [
      "Train shape: (62870, 334914)\n",
      "Test shape: (15718, 334914)\n"
     ]
    }
   ],
   "source": [
    "from sklearn.model_selection import train_test_split\n",
    "from sklearn.feature_extraction.text import TfidfVectorizer\n",
    "\n",
    "# Step 3: TF-IDF vectorization\n",
    "\n",
    "# Separate features and labels\n",
    "X = df[\"content\"]\n",
    "y = df[\"label\"]\n",
    "\n",
    "# Split into train/test (80/20)\n",
    "X_train, X_test, y_train, y_test = train_test_split(X, y, test_size=0.2, random_state=42)\n",
    "\n",
    "# TF-IDF Vectorizer\n",
    "tfidf = TfidfVectorizer(stop_words='english', max_df=0.7)\n",
    "\n",
    "# Fit and transform the training data, transform the test data\n",
    "X_train_tfidf = tfidf.fit_transform(X_train)\n",
    "X_test_tfidf = tfidf.transform(X_test)\n",
    "\n",
    "# Show the shape of vectorized data\n",
    "print(\"Train shape:\", X_train_tfidf.shape)\n",
    "print(\"Test shape:\", X_test_tfidf.shape)\n"
   ]
  },
  {
   "cell_type": "code",
   "execution_count": 4,
   "id": "af61b27d",
   "metadata": {},
   "outputs": [
    {
     "name": "stdout",
     "output_type": "stream",
     "text": [
      "\n",
      "🔷 Logistic Regression\n",
      "Accuracy: 0.9481\n",
      "              precision    recall  f1-score   support\n",
      "\n",
      "           0       0.95      0.96      0.95      8698\n",
      "           1       0.95      0.93      0.94      7020\n",
      "\n",
      "    accuracy                           0.95     15718\n",
      "   macro avg       0.95      0.95      0.95     15718\n",
      "weighted avg       0.95      0.95      0.95     15718\n",
      "\n",
      "\n",
      "🔷 Support Vector Machine\n",
      "Accuracy: 0.9633\n",
      "              precision    recall  f1-score   support\n",
      "\n",
      "           0       0.96      0.97      0.97      8698\n",
      "           1       0.97      0.95      0.96      7020\n",
      "\n",
      "    accuracy                           0.96     15718\n",
      "   macro avg       0.96      0.96      0.96     15718\n",
      "weighted avg       0.96      0.96      0.96     15718\n",
      "\n",
      "\n",
      "🔷 Random Forest\n",
      "Accuracy: 0.9406\n",
      "              precision    recall  f1-score   support\n",
      "\n",
      "           0       0.94      0.95      0.95      8698\n",
      "           1       0.94      0.92      0.93      7020\n",
      "\n",
      "    accuracy                           0.94     15718\n",
      "   macro avg       0.94      0.94      0.94     15718\n",
      "weighted avg       0.94      0.94      0.94     15718\n",
      "\n"
     ]
    }
   ],
   "source": [
    "from sklearn.linear_model import LogisticRegression\n",
    "from sklearn.svm import LinearSVC\n",
    "from sklearn.ensemble import RandomForestClassifier\n",
    "from sklearn.metrics import classification_report, accuracy_score\n",
    "\n",
    "# Train and evaluate multiple models\n",
    "\n",
    "models = {\n",
    "    \"Logistic Regression\": LogisticRegression(max_iter=1000),\n",
    "    \"Support Vector Machine\": LinearSVC(),\n",
    "    \"Random Forest\": RandomForestClassifier(n_estimators=100, random_state=42)\n",
    "}\n",
    "\n",
    "for name, model in models.items():\n",
    "    print(f\"\\n🔷 {name}\")\n",
    "    model.fit(X_train_tfidf, y_train)\n",
    "    y_pred = model.predict(X_test_tfidf)\n",
    "    acc = accuracy_score(y_test, y_pred)\n",
    "    print(f\"Accuracy: {acc:.4f}\")\n",
    "    print(classification_report(y_test, y_pred))\n"
   ]
  },
  {
   "cell_type": "code",
   "execution_count": 5,
   "id": "a1bdec41",
   "metadata": {},
   "outputs": [
    {
     "data": {
      "image/png": "[encoded data removed]",
      "text/plain": [
       "<Figure size 640x480 with 2 Axes>"
      ]
     },
     "metadata": {},
     "output_type": "display_data"
    }
   ],
   "source": [
    "import matplotlib.pyplot as plt\n",
    "from sklearn.metrics import confusion_matrix, ConfusionMatrixDisplay, roc_auc_score, roc_curve\n",
    "\n",
    "#  Confusion Matrix for Logistic Regression\n",
    "lr_model = LogisticRegression(max_iter=1000)\n",
    "lr_model.fit(X_train_tfidf, y_train)\n",
    "y_pred = lr_model.predict(X_test_tfidf)\n",
    "\n",
    "cm = confusion_matrix(y_test, y_pred)\n",
    "disp = ConfusionMatrixDisplay(confusion_matrix=cm, display_labels=[\"Fake\", \"Real\"])\n",
    "disp.plot(cmap=plt.cm.Blues)\n",
    "plt.title(\"Confusion Matrix - Logistic Regression\")\n",
    "plt.show()\n"
   ]
  },
  {
   "cell_type": "code",
   "execution_count": 6,
   "id": "8f642706",
   "metadata": {},
   "outputs": [
    {
     "data": {
      "image/png": "[encoded data removed]",
      "text/plain": [
       "<Figure size 600x400 with 1 Axes>"
      ]
     },
     "metadata": {},
     "output_type": "display_data"
    }
   ],
   "source": [
    "#  ROC Curve\n",
    "y_prob = lr_model.predict_proba(X_test_tfidf)[:, 1]\n",
    "fpr, tpr, thresholds = roc_curve(y_test, y_prob)\n",
    "roc_score = roc_auc_score(y_test, y_prob)\n",
    "\n",
    "plt.figure(figsize=(6, 4))\n",
    "plt.plot(fpr, tpr, label=f\"AUC = {roc_score:.4f}\")\n",
    "plt.plot([0, 1], [0, 1], linestyle=\"--\")\n",
    "plt.xlabel(\"False Positive Rate\")\n",
    "plt.ylabel(\"True Positive Rate\")\n",
    "plt.title(\"ROC Curve - Logistic Regression\")\n",
    "plt.legend()\n",
    "plt.grid()\n",
    "plt.show()\n"
   ]
  },
  {
   "cell_type": "code",
   "execution_count": 7,
   "id": "b7c7e9db",
   "metadata": {},
   "outputs": [
    {
     "name": "stdout",
     "output_type": "stream",
     "text": [
      "✅ Model and vectorizer saved successfully!\n"
     ]
    }
   ],
   "source": [
    "import joblib\n",
    "\n",
    "#  Save model and vectorizer\n",
    "joblib.dump(lr_model, \"fake_news_model.pkl\")\n",
    "joblib.dump(tfidf, \"tfidf_vectorizer.pkl\")\n",
    "\n",
    "print(\"✅ Model and vectorizer saved successfully!\")\n"
   ]
  },
  {
   "cell_type": "code",
   "execution_count": null,
   "id": "b388e64f",
   "metadata": {},
   "outputs": [
    {
     "name": "stdout",
     "output_type": "stream",
     "text": [
      "News: Breaking: Government launches new AI policy for education sector\n",
      "Prediction: FAKE\n"
     ]
    }
   ],
   "source": [
    "# Load model and vectorizer for prediction\n",
    "import joblib\n",
    "\n",
    "# Load saved model and vectorizer\n",
    "model = joblib.load(\"fake_news_model.pkl\")\n",
    "vectorizer = joblib.load(\"tfidf_vectorizer.pkl\")\n",
    "\n",
    "# Predict function\n",
    "def predict_news(text):\n",
    "    cleaned = re.sub(r\"[^\\w\\s]\", \"\", text.lower())\n",
    "    vect_text = vectorizer.transform([cleaned])\n",
    "    prediction = model.predict(vect_text)[0]\n",
    "    label = \"REAL\" if prediction == 1 else \"FAKE\"\n",
    "    return label\n",
    "\n",
    "# Test on a sample input\n",
    "sample = \"Breaking: Government launches new AI pol\"\n",
    "print(f\"News: {sample}\")\n",
    "print(\"Prediction:\", predict_news(sample))\n"
   ]
  },
  {
   "cell_type": "code",
   "execution_count": null,
   "id": "4fed73b2",
   "metadata": {},
   "outputs": [],
   "source": []
  }
 ],
 "metadata": {
  "kernelspec": {
   "display_name": "Python 3",
   "language": "python",
   "name": "python3"
  },
  "language_info": {
   "codemirror_mode": {
    "name": "ipython",
    "version": 3
   },
   "file_extension": ".py",
   "mimetype": "text/x-python",
   "name": "python",
   "nbconvert_exporter": "python",
   "pygments_lexer": "ipython3",
   "version": "3.11.0"
  }
 },
 "nbformat": 4,
 "nbformat_minor": 5
}
